{
 "cells": [
  {
   "cell_type": "code",
   "execution_count": 1,
   "id": "2745ee0c",
   "metadata": {},
   "outputs": [
    {
     "name": "stdout",
     "output_type": "stream",
     "text": [
      "WARNING:tensorflow:From C:\\Users\\heman\\anaconda3\\Lib\\site-packages\\tf_keras\\src\\losses.py:2976: The name tf.losses.sparse_softmax_cross_entropy is deprecated. Please use tf.compat.v1.losses.sparse_softmax_cross_entropy instead.\n",
      "\n"
     ]
    }
   ],
   "source": [
    "import tensorflow as tf\n",
    "import cv2\n",
    "import numpy as np\n",
    "import tensorflow_hub as hub"
   ]
  },
  {
   "cell_type": "code",
   "execution_count": 3,
   "id": "60de074d",
   "metadata": {},
   "outputs": [
    {
     "name": "stdout",
     "output_type": "stream",
     "text": [
      "WARNING:tensorflow:From C:\\Users\\heman\\anaconda3\\Lib\\site-packages\\tensorflow_hub\\resolver.py:120: The name tf.gfile.MakeDirs is deprecated. Please use tf.io.gfile.makedirs instead.\n",
      "\n"
     ]
    },
    {
     "name": "stderr",
     "output_type": "stream",
     "text": [
      "WARNING:tensorflow:From C:\\Users\\heman\\anaconda3\\Lib\\site-packages\\tensorflow_hub\\resolver.py:120: The name tf.gfile.MakeDirs is deprecated. Please use tf.io.gfile.makedirs instead.\n",
      "\n"
     ]
    },
    {
     "name": "stdout",
     "output_type": "stream",
     "text": [
      "WARNING:tensorflow:From C:\\Users\\heman\\anaconda3\\Lib\\site-packages\\tensorflow_hub\\module_v2.py:126: The name tf.saved_model.load_v2 is deprecated. Please use tf.compat.v2.saved_model.load instead.\n",
      "\n"
     ]
    },
    {
     "name": "stderr",
     "output_type": "stream",
     "text": [
      "WARNING:tensorflow:From C:\\Users\\heman\\anaconda3\\Lib\\site-packages\\tensorflow_hub\\module_v2.py:126: The name tf.saved_model.load_v2 is deprecated. Please use tf.compat.v2.saved_model.load instead.\n",
      "\n"
     ]
    },
    {
     "name": "stdout",
     "output_type": "stream",
     "text": [
      "INFO:tensorflow:Saver not created because there are no variables in the graph to restore\n"
     ]
    },
    {
     "name": "stderr",
     "output_type": "stream",
     "text": [
      "INFO:tensorflow:Saver not created because there are no variables in the graph to restore\n"
     ]
    }
   ],
   "source": [
    "model = hub.load(\"https://tfhub.dev/google/openimages_v4/ssd/mobilenet_v2/1\").signatures[\"default\"]"
   ]
  },
  {
   "cell_type": "code",
   "execution_count": 7,
   "id": "5a6f53e9",
   "metadata": {},
   "outputs": [],
   "source": [
    "import random\n",
    "import math"
   ]
  },
  {
   "cell_type": "code",
   "execution_count": 9,
   "id": "a99ca9e9",
   "metadata": {},
   "outputs": [],
   "source": [
    "colorcodes = {}"
   ]
  },
  {
   "cell_type": "code",
   "execution_count": 23,
   "id": "40418f66",
   "metadata": {},
   "outputs": [],
   "source": [
    "def drawbox(image,ymin,xmin,ymax,xmax,namewithscore,color):\n",
    "    im_height, im_width, _  = image.shape\n",
    "    left,top,right,bottom = int(xmin*im_width), int(ymin*im_height), int(xmax*im_width),int(ymax*im_height)\n",
    "    cv2.rectangle(image,(left,top),(right,bottom),color = color,thickness = 4)\n",
    "    FONT_SCALE = 5e-3\n",
    "    THICKNESS_SCALE = 4e-3\n",
    "    width = right-left\n",
    "    height = bottom-top\n",
    "    TEXT_Y_OFFSET_SCALE = 1e-2\n",
    "    cv2.rectangle(\n",
    "        image,\n",
    "        (left,top- int(height * 6e-2)),\n",
    "        (right,top),\n",
    "        color = color,\n",
    "        thickness = -1\n",
    "        \n",
    "    )\n",
    "    cv2.putText(\n",
    "        image,\n",
    "        namewithscore,\n",
    "        (left,top-int(height * TEXT_Y_OFFSET_SCALE)),\n",
    "        fontFace = cv2.FONT_HERSHEY_PLAIN,\n",
    "        fontScale = min(width,height)* FONT_SCALE,\n",
    "        thickness = math.ceil(min(width,height)* THICKNESS_SCALE),\n",
    "        color = (255,255,255)\n",
    "    )"
   ]
  },
  {
   "cell_type": "code",
   "execution_count": 25,
   "id": "f7b7f4af",
   "metadata": {},
   "outputs": [],
   "source": [
    "def draw(image,boxes,classnames,scores):\n",
    "    boxesidx = tf.image.non_max_suppression(boxes,scores,max_output_size = 7, iou_threshold = 0.8,score_threshold = 0.1)\n",
    "#     for i in range(len(boxes)):\n",
    "    for i in boxesidx:\n",
    "        ymin,xmin,ymax,xmax = tuple(boxes[i])\n",
    "        classname = classnames[i].decode(\"ascii\")\n",
    "        if classname in colorcodes.keys():\n",
    "            color = colorcodes[classname]\n",
    "        else:\n",
    "            c1 = random.randrange(0,255,30)\n",
    "            c2 = random.randrange(0,255,25)\n",
    "            c3 = random.randrange(0,255,50)\n",
    "            colorcodes.update({classname: (c1,c2,c3)})\n",
    "            color = colorcodes[classname]\n",
    "        namewithscore = \"{}:{}\".format(classname,int(100*scores[i]))\n",
    "        drawbox(image,ymin,xmin,ymax,xmax,namewithscore,color)\n",
    "        \n",
    "    return image"
   ]
  },
  {
   "cell_type": "code",
   "execution_count": 27,
   "id": "71e1b009",
   "metadata": {},
   "outputs": [],
   "source": [
    "image = cv2.imread(\"image2.jpg\")\n",
    "image = cv2.resize(image,(1000,900))\n",
    "image2 = cv2.cvtColor(image,cv2.COLOR_BGR2RGB)\n",
    "converted_img = tf.image.convert_image_dtype(image2,tf.float32)[tf.newaxis, ...]"
   ]
  },
  {
   "cell_type": "code",
   "execution_count": 29,
   "id": "4a68f686",
   "metadata": {},
   "outputs": [],
   "source": [
    "detection = model(converted_img)"
   ]
  },
  {
   "cell_type": "code",
   "execution_count": 31,
   "id": "54f8229c",
   "metadata": {},
   "outputs": [
    {
     "name": "stdout",
     "output_type": "stream",
     "text": [
      "tf.Tensor(\n",
      "[b'Man' b'Clothing' b'Falcon' b'Owl' b'Falcon' b'Human arm' b'Human face'\n",
      " b'Eagle' b'Human arm' b'Human arm' b'Jeans' b'Clothing' b'Human arm'\n",
      " b'Person' b'Human arm' b'Human arm' b'Bird' b'Fashion accessory'\n",
      " b'Human face' b'Human hair' b'Bird' b'Person' b'Human arm' b'Flower'\n",
      " b'Footwear' b'Fashion accessory' b'Owl' b'Clothing' b'Human arm' b'Man'\n",
      " b'Human arm' b'Flower' b'Flower' b'Human arm' b'Person' b'Parrot'\n",
      " b'Flower' b'Eagle' b'Flower' b'Flower' b'Human arm' b'Fashion accessory'\n",
      " b'Footwear' b'Flower' b'Person' b'Clothing' b'Human eye' b'Flower'\n",
      " b'Human arm' b'Flower' b'Person' b'Human arm' b'Clothing' b'Human arm'\n",
      " b'Clothing' b'Human arm' b'Human arm' b'Human arm' b'Human face' b'Man'\n",
      " b'Human leg' b'Human arm' b'Plant' b'Flower' b'Human head' b'Chair'\n",
      " b'Flower' b'Person' b'Clothing' b'Window' b'Man' b'Human arm' b'Toy'\n",
      " b'Flower' b'Human leg' b'Human arm' b'Falcon' b'Human arm' b'Human arm'\n",
      " b'Chair' b'Window' b'Window' b'Shirt' b'Human leg' b'Person' b'Human leg'\n",
      " b'Chair' b'Man' b'Human leg' b'Human leg' b'Clothing' b'Human arm'\n",
      " b'Human leg' b'Window' b'Human arm' b'Curtain' b'Human arm' b'Chair'\n",
      " b'Plant' b'Clothing'], shape=(100,), dtype=string)\n"
     ]
    }
   ],
   "source": [
    "print(detection[\"detection_class_entities\"])"
   ]
  },
  {
   "cell_type": "code",
   "execution_count": 33,
   "id": "7a1146e5",
   "metadata": {},
   "outputs": [
    {
     "data": {
      "text/plain": [
       "-1"
      ]
     },
     "execution_count": 33,
     "metadata": {},
     "output_type": "execute_result"
    }
   ],
   "source": [
    "result = {key:value.numpy() for key,value in detection.items()}\n",
    "imagewithboxes = draw(image,result['detection_boxes'],result['detection_class_entities'],result[\"detection_scores\"])\n",
    "cv2.imshow(\"image\",imagewithboxes)\n",
    "cv2.waitKey(0)"
   ]
  },
  {
   "cell_type": "code",
   "execution_count": null,
   "id": "6d402e65",
   "metadata": {},
   "outputs": [],
   "source": []
  }
 ],
 "metadata": {
  "kernelspec": {
   "display_name": "Python 3 (ipykernel)",
   "language": "python",
   "name": "python3"
  },
  "language_info": {
   "codemirror_mode": {
    "name": "ipython",
    "version": 3
   },
   "file_extension": ".py",
   "mimetype": "text/x-python",
   "name": "python",
   "nbconvert_exporter": "python",
   "pygments_lexer": "ipython3",
   "version": "3.11.7"
  }
 },
 "nbformat": 4,
 "nbformat_minor": 5
}
